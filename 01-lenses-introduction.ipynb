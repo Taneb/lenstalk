{
 "cells": [
  {
   "cell_type": "markdown",
   "metadata": {
    "slideshow": {
     "slide_type": "slide"
    }
   },
   "source": [
    "# Introduction: what problem are lenses designed to solve?"
   ]
  },
  {
   "cell_type": "markdown",
   "metadata": {
    "slideshow": {
     "slide_type": "notes"
    }
   },
   "source": [
    "Let's say we have a collection of nested data types where we frequently want to modify the inner fields"
   ]
  },
  {
   "cell_type": "code",
   "execution_count": 1,
   "metadata": {
    "slideshow": {
     "slide_type": "skip"
    }
   },
   "outputs": [],
   "source": [
    "import Data.Time\n",
    "import Data.Map.Strict (Map)\n",
    "import qualified Data.Map.Strict as M"
   ]
  },
  {
   "cell_type": "code",
   "execution_count": 2,
   "metadata": {
    "slideshow": {
     "slide_type": "subslide"
    }
   },
   "outputs": [
    {
     "data": {
      "text/plain": [
       "Account {_name = \"Homer Simpson\", _sessions = fromList [], _permissions = Permissions {_canEditPages = True, _canDeletePages = False, _canBanUsers = False}}"
      ]
     },
     "metadata": {},
     "output_type": "display_data"
    }
   ],
   "source": [
    "data Account = Account\n",
    "  { _name :: String\n",
    "  , _sessions :: Map SessionID Session\n",
    "  , _permissions :: Permissions\n",
    "  }\n",
    "  deriving Show\n",
    "\n",
    "newtype SessionID = SessionID Int\n",
    "  deriving (Show, Eq, Ord)\n",
    "\n",
    "data Session = Session\n",
    "  { _sessionStarted :: UTCTime\n",
    "  , _lastActive  :: UTCTime\n",
    "  }\n",
    "  deriving Show\n",
    "\n",
    "data Permissions = Permissions\n",
    "  { _canEditPages :: Bool\n",
    "  , _canDeletePages :: Bool\n",
    "  , _canBanUsers :: Bool\n",
    "  }\n",
    "  deriving Show\n",
    "  \n",
    "homer = Account \"Homer Simpson\" M.empty (Permissions True False False)\n",
    "print homer"
   ]
  },
  {
   "cell_type": "markdown",
   "metadata": {
    "slideshow": {
     "slide_type": "notes"
    }
   },
   "source": [
    "Using Haskell's record syntax it's not hard to set the name field to something new"
   ]
  },
  {
   "cell_type": "code",
   "execution_count": 3,
   "metadata": {
    "slideshow": {
     "slide_type": "subslide"
    }
   },
   "outputs": [
    {
     "data": {
      "text/plain": [
       "Account {_name = \"Homer J. Simpson\", _sessions = fromList [], _permissions = Permissions {_canEditPages = True, _canDeletePages = False, _canBanUsers = False}}"
      ]
     },
     "metadata": {},
     "output_type": "display_data"
    }
   ],
   "source": [
    "-- we can use record syntax to set the name\n",
    "updateName :: String -> Account -> Account\n",
    "updateName newName account = account { _name = newName }\n",
    "\n",
    "print $ updateName \"Homer J. Simpson\" homer"
   ]
  },
  {
   "cell_type": "code",
   "execution_count": 4,
   "metadata": {
    "slideshow": {
     "slide_type": "skip"
    }
   },
   "outputs": [],
   "source": [
    "import Data.Maybe (fromJust)\n",
    "import Data.Time.Format.ISO8601 (iso8601ParseM)\n",
    "\n",
    "newSession :: Session\n",
    "newSession = Session (fromJust $ iso8601ParseM \"2020-12-04T11:19:04Z\") (fromJust $ iso8601ParseM \"2020-12-04T12:47:32Z\")\n",
    "\n",
    "newSessionId :: SessionID\n",
    "newSessionId = SessionID 4123"
   ]
  },
  {
   "cell_type": "code",
   "execution_count": 5,
   "metadata": {
    "slideshow": {
     "slide_type": "subslide"
    }
   },
   "outputs": [
    {
     "data": {
      "text/plain": [
       "Account {_name = \"Homer Simpson\", _sessions = fromList [(SessionID 4123,Session {_sessionStarted = 2020-12-04 11:19:04 UTC, _lastActive = 2020-12-04 12:47:32 UTC})], _permissions = Permissions {_canEditPages = True, _canDeletePages = False, _canBanUsers = False}}"
      ]
     },
     "metadata": {},
     "output_type": "display_data"
    }
   ],
   "source": [
    "-- we can also use record syntax to modify\n",
    "addSession :: SessionID -> Session -> Account -> Account\n",
    "addSession sessionId session account = account { _sessions = M.insert sessionId session (_sessions account) }\n",
    "\n",
    "print $ addSession newSessionId newSession homer"
   ]
  },
  {
   "cell_type": "markdown",
   "metadata": {
    "slideshow": {
     "slide_type": "notes"
    }
   },
   "source": [
    "If we want to edit something that's nested things start getting a little hairy"
   ]
  },
  {
   "cell_type": "code",
   "execution_count": 6,
   "metadata": {
    "slideshow": {
     "slide_type": "subslide"
    }
   },
   "outputs": [
    {
     "data": {
      "text/plain": [
       "Account {_name = \"Homer Simpson\", _sessions = fromList [], _permissions = Permissions {_canEditPages = False, _canDeletePages = False, _canBanUsers = False}}"
      ]
     },
     "metadata": {},
     "output_type": "display_data"
    }
   ],
   "source": [
    "toggleCanEditPages :: Account -> Account\n",
    "toggleCanEditPages account = \n",
    "  account\n",
    "    { _permissions = (_permissions account) \n",
    "      { _canEditPages = not (_canEditPages (_permissions account))\n",
    "      }\n",
    "    }\n",
    "    \n",
    "print $ toggleCanEditPages homer"
   ]
  },
  {
   "cell_type": "markdown",
   "metadata": {
    "slideshow": {
     "slide_type": "slide"
    }
   },
   "source": [
    "## Lenses: composable record accessors!"
   ]
  },
  {
   "cell_type": "code",
   "execution_count": 7,
   "metadata": {
    "slideshow": {
     "slide_type": "subslide"
    }
   },
   "outputs": [],
   "source": [
    "{-# LANGUAGE TemplateHaskell #-}\n",
    "import Control.Lens\n",
    "\n",
    "makeLenses ''Account\n",
    "makeLenses ''Session\n",
    "makeLenses ''Permissions\n",
    "\n",
    "-- generates eg. name :: Lens' Account Text"
   ]
  },
  {
   "cell_type": "code",
   "execution_count": 8,
   "metadata": {
    "slideshow": {
     "slide_type": "subslide"
    }
   },
   "outputs": [],
   "source": [
    "updateNameBetter :: String -> Account -> Account\n",
    "updateNameBetter = set name"
   ]
  },
  {
   "cell_type": "code",
   "execution_count": 9,
   "metadata": {
    "slideshow": {
     "slide_type": "subslide"
    }
   },
   "outputs": [],
   "source": [
    "addSessionBetter :: SessionID -> Session -> Account -> Account\n",
    "addSessionBetter sessionId session = over sessions (M.insert sessionId session)"
   ]
  },
  {
   "cell_type": "code",
   "execution_count": 10,
   "metadata": {
    "slideshow": {
     "slide_type": "subslide"
    }
   },
   "outputs": [],
   "source": [
    "-- lenses can compose!\n",
    "toggleCanEditPagesBetter :: Account -> Account\n",
    "toggleCanEditPagesBetter = over (permissions . canEditPages) not"
   ]
  },
  {
   "cell_type": "markdown",
   "metadata": {
    "slideshow": {
     "slide_type": "subslide"
    }
   },
   "source": [
    "### Like record accessors, we can also use lenses to view"
   ]
  },
  {
   "cell_type": "code",
   "execution_count": 11,
   "metadata": {
    "slideshow": {
     "slide_type": "subslide"
    }
   },
   "outputs": [
    {
     "data": {
      "text/plain": [
       "False"
      ]
     },
     "metadata": {},
     "output_type": "display_data"
    }
   ],
   "source": [
    "print $ homer ^. permissions . canBanUsers"
   ]
  },
  {
   "cell_type": "markdown",
   "metadata": {
    "slideshow": {
     "slide_type": "slide"
    }
   },
   "source": [
    "## The `Lens` tab, explained, one step at a time"
   ]
  },
  {
   "cell_type": "markdown",
   "metadata": {
    "slideshow": {
     "slide_type": "notes"
    }
   },
   "source": [
    "The general shape of (not-type-changing) lenses and related structures in the `lens` library is:"
   ]
  },
  {
   "cell_type": "markdown",
   "metadata": {
    "slideshow": {
     "slide_type": "subslide"
    }
   },
   "source": [
    "```haskell\n",
    "type Optic' s a = forall f. Constraint f => (a -> f a) -> s -> f s\n",
    "```"
   ]
  },
  {
   "cell_type": "markdown",
   "metadata": {
    "slideshow": {
     "slide_type": "notes"
    }
   },
   "source": [
    "For some constraint. The particular constraint for lenses proper is `Functor`. \n",
    "\n",
    "Note that if we have two such optics, we can compose them with (Prelude..)!"
   ]
  },
  {
   "cell_type": "markdown",
   "metadata": {
    "slideshow": {
     "slide_type": "slide"
    }
   },
   "source": [
    "## Getters: basically functions"
   ]
  },
  {
   "cell_type": "markdown",
   "metadata": {
    "slideshow": {
     "slide_type": "notes"
    }
   },
   "source": [
    "The simplest thing that record accessors do that `lens` wants to replicate is access data. We want something of the lens shape that works like a function! A bit of Church encoding magic gives us:"
   ]
  },
  {
   "cell_type": "markdown",
   "metadata": {
    "slideshow": {
     "slide_type": "subslide"
    }
   },
   "source": [
    "```haskell\n",
    "type Getter1 s a = s -> a\n",
    "-- is isomorphic to...\n",
    "type Getter2 s a = forall r. (a -> r) -> s -> r\n",
    "-- is isomorphic to...\n",
    "type Getter3 s a = forall r. (a -> Const r a) -> s -> Const r s\n",
    "-- is isomorphic to...\n",
    "type Getter s a = forall f. (Functor f, Contravariant f) => (a -> f a) -> s -> f s\n",
    "```"
   ]
  },
  {
   "cell_type": "markdown",
   "metadata": {
    "slideshow": {
     "slide_type": "subslide"
    }
   },
   "source": [
    "```haskell\n",
    "type Getter s a = forall f. (Functor f, Contravariant f) => (a -> f a) -> s -> f s\n",
    "\n",
    "to :: (s -> a) -> Getter s a\n",
    "to f k s = contramap f (k (f s))\n",
    "\n",
    "view :: Getter s a -> s -> a\n",
    "view getter s = runConst (getter Const s)\n",
    "\n",
    "(^.) :: s -> Getter s a -> a\n",
    "\n",
    "views :: Getter s a -> (a -> r) -> s -> a\n",
    "\n",
    "use :: MonadState s m => Getter s a -> m a\n",
    "\n",
    "uses :: MonadState s m => Getter s a -> (a -> b) -> m b\n",
    "```"
   ]
  },
  {
   "cell_type": "markdown",
   "metadata": {
    "slideshow": {
     "slide_type": "slide"
    }
   },
   "source": [
    "## Setters: when you want to make changes"
   ]
  },
  {
   "cell_type": "markdown",
   "metadata": {
    "slideshow": {
     "slide_type": "subslide"
    }
   },
   "source": [
    "The next thing that lens wants to cover that we got from record accessors is setting. It turns out to be a little nicer if we think about _modifying_ rather than setting."
   ]
  },
  {
   "cell_type": "markdown",
   "metadata": {
    "slideshow": {
     "slide_type": "subslide"
    }
   },
   "source": [
    "```haskell\n",
    "type Setter1 s a = (a -> a) -> s -> s\n",
    "-- is isomorphic to...\n",
    "type Setter2 s a = (a -> Identity a) -> s -> Identity s\n",
    "-- is isomorphic to...\n",
    "type Setter' s a = forall f. Settable f => (a -> f a) -> s -> f s\n",
    "```"
   ]
  },
  {
   "cell_type": "markdown",
   "metadata": {
    "slideshow": {
     "slide_type": "subslide"
    }
   },
   "source": [
    "`Settable` is a typeclass that lens defines that's basically \"is isomorphic to `Identity`\""
   ]
  },
  {
   "cell_type": "markdown",
   "metadata": {
    "slideshow": {
     "slide_type": "subslide"
    }
   },
   "source": [
    "```haskell\n",
    "class Applicative f => Settable f where\n",
    "  untainted :: f a -> a\n",
    "\n",
    "instance Settable Identity where\n",
    "  untainted = runIdentity\n",
    "\n",
    "type Setter' s a = forall f. Settable f => (a -> f a) -> s -> f s\n",
    "\n",
    "setting :: ((a -> a) -> s -> s) -> Setter' s a\n",
    "setting f k s = pure (f (untainted . k) s)\n",
    "\n",
    "over :: Setter' s a -> (a -> a) -> s -> s\n",
    "over setter f s = runIdentity (setter (Identity . f) s)\n",
    "\n",
    "set :: Setter' s a -> a -> s -> s\n",
    "set setter a = over setter (const a)\n",
    "\n",
    "(%~) :: Setter' s a -> (a -> a) -> s -> s\n",
    "\n",
    "(.~) :: Setter' s a -> a -> s -> s\n",
    "\n",
    "(%=) :: MonadState s a => Setter' s a -> (a -> a) -> m ()\n",
    "\n",
    "(.=) :: MonadState s a => Setter' s a -> a -> m ()\n",
    "```"
   ]
  },
  {
   "cell_type": "markdown",
   "metadata": {
    "slideshow": {
     "slide_type": "subslide"
    }
   },
   "source": [
    "### Setter laws\n",
    "```\n",
    "over setter id = id\n",
    "over setter f . over setter g = over setter (f . g)\n",
    "```\n",
    "\n",
    "These are essentially the functor laws!"
   ]
  },
  {
   "cell_type": "markdown",
   "metadata": {
    "slideshow": {
     "slide_type": "slide"
    }
   },
   "source": [
    "### Type changing setters"
   ]
  },
  {
   "cell_type": "markdown",
   "metadata": {
    "slideshow": {
     "slide_type": "notes"
    }
   },
   "source": [
    "We can actually generalize setters so that we can change the types!"
   ]
  },
  {
   "cell_type": "markdown",
   "metadata": {
    "slideshow": {
     "slide_type": "subslide"
    }
   },
   "source": [
    "```haskell\n",
    "type Setter s t a b = forall f. Settable f => (a -> f b) -> s -> f t\n",
    "\n",
    "setting :: ((a -> b) -> s -> t) -> Setter s t a b\n",
    "\n",
    "mapped :: Functor f => Setter a b (f a) (f b)\n",
    "\n",
    "over :: Setter s t a b -> (a -> b) -> s -> t\n",
    "```"
   ]
  },
  {
   "cell_type": "markdown",
   "metadata": {
    "slideshow": {
     "slide_type": "slide"
    }
   },
   "source": [
    "## Lenses: putting it all together"
   ]
  },
  {
   "cell_type": "markdown",
   "metadata": {
    "slideshow": {
     "slide_type": "skip"
    }
   },
   "source": [
    "We want to end up with something that we can use as both a Getter and as a Setter. This means that we need the maximum constraint that is both a superconstraint to (Contravariant f, Functor f) and Settable f. This happens to be Functor. We'll keep the type-changing behaviour."
   ]
  },
  {
   "cell_type": "markdown",
   "metadata": {
    "slideshow": {
     "slide_type": "subslide"
    }
   },
   "source": [
    "```haskell\n",
    "type Lens s t a b = forall f. Functor f => (a -> f b) -> s -> f t\n",
    "\n",
    "lens :: (s -> a) -> (s -> b -> t) -> Lens s t a b\n",
    "lens get set k s = fmap (\\b -> set s b) (k (get s))\n",
    "\n",
    "(<%~) :: Lens s t a b -> (a -> b) -> s -> (a, t)\n",
    "(<%~) l f s = l (\\a -> (a, f a)) s\n",
    "```"
   ]
  },
  {
   "cell_type": "markdown",
   "metadata": {
    "slideshow": {
     "slide_type": "slide"
    }
   },
   "source": [
    "## Next time...\n",
    "\n",
    "* Folds and Traversals\n",
    "* Plated"
   ]
  }
 ],
 "metadata": {
  "celltoolbar": "Slideshow",
  "kernelspec": {
   "display_name": "Haskell",
   "language": "haskell",
   "name": "haskell"
  },
  "language_info": {
   "codemirror_mode": "ihaskell",
   "file_extension": ".hs",
   "mimetype": "text/x-haskell",
   "name": "haskell",
   "pygments_lexer": "Haskell",
   "version": "8.10.2"
  }
 },
 "nbformat": 4,
 "nbformat_minor": 4
}
